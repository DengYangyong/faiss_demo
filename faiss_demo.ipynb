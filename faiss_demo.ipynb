{
 "cells": [
  {
   "cell_type": "code",
   "execution_count": 14,
   "metadata": {},
   "outputs": [],
   "source": [
    "#coding:utf-8\n",
    "import time\n",
    "import numpy as np \n",
    "import faiss\n",
    "\n",
    "\"\"\" \n",
    "1: 向量128维，构造200万个向量，服从正态分布\n",
    "\"\"\"\n",
    "d = 128         \n",
    "n_data = 2000000  \n",
    "np.random.seed(0) \n",
    "\n",
    "\n",
    "data = []\n",
    "mu = 3\n",
    "sigma = 0.1\n",
    "\n",
    "for i in range(n_data):\n",
    "    data.append(np.random.normal(mu, sigma, d))\n",
    "\n",
    "\"\"\" 向量为float32类型，即32bits（位数），4bytes（字节）\"\"\"\n",
    "data = np.array(data).astype('float32')"
   ]
  },
  {
   "cell_type": "code",
   "execution_count": 15,
   "metadata": {},
   "outputs": [],
   "source": [
    "\"\"\"\n",
    "2: 构造10个查询向量\n",
    "\"\"\"\n",
    "\n",
    "query = []\n",
    "n_query = 10\n",
    "\n",
    "for i in range(n_query):\n",
    "    query.append(np.random.normal(mu, sigma, d))\n",
    "    \n",
    "query = np.array(query).astype('float32')"
   ]
  },
  {
   "cell_type": "code",
   "execution_count": 14,
   "metadata": {},
   "outputs": [
    {
     "name": "stdout",
     "output_type": "stream",
     "text": [
      "Time usage for train: 11.4703 seconds.\n"
     ]
    }
   ],
   "source": [
    "\"\"\"\n",
    "3: 构建索引\n",
    "\"\"\"\n",
    "import faiss\n",
    "\n",
    "\"\"\" 将向量切分为8个子向量，每个向量16维，\n",
    "所以m必须能被d整除\"\"\"\n",
    "m = 8\n",
    "\n",
    "\"\"\" 每个子向量集合都聚成100类 \"\"\"\n",
    "nlist = 100          \n",
    "\n",
    "\"\"\" 取top10相似向量 \"\"\"\n",
    "k = 10\n",
    "\n",
    "\"\"\" 构建量化器 \"\"\"\n",
    "start = time.time()\n",
    "quantizer = faiss.IndexFlatL2(d) \n",
    "\n",
    "\"\"\" 每个子向量从32bits编码为8bits，\n",
    "如果希望加大压缩比率，也可以编码为4bits \"\"\"\n",
    "index = faiss.IndexIVFPQ(quantizer, d, nlist, m, 8)\n",
    "                    \n",
    "index.train(data)\n",
    "index.add(data)\n",
    "\n",
    "\"\"\" 个人理解是计算查询向量和100个聚类中心的距离，然后取距离最小的10个类别，\n",
    "然后再去这10个类别中找top10相似，类似于beam search，\n",
    "因为nprobe=100时，时间消耗等同于没有聚类。\n",
    "\"\"\"\n",
    "index.nprobe = 10\n",
    "end = time.time()\n",
    "print(\"Time usage for train: {} seconds.\".format(round((end - start),4)))"
   ]
  },
  {
   "cell_type": "code",
   "execution_count": 15,
   "metadata": {},
   "outputs": [
    {
     "name": "stdout",
     "output_type": "stream",
     "text": [
      "[[      0 1353351  768649  401902  946967  760506 1917035 1362211  107858\n",
      "    61533]\n",
      " [      1 1500400  202228 1810408  180601  895364 1005966  579157  155041\n",
      "  1033148]\n",
      " [      2  909495  454642 1206165  662479 1766244 1227949  823773  176253\n",
      "   607382]\n",
      " [      3 1018879 1449759 1137078 1136978  434316  702742  372995  688347\n",
      "  1791706]\n",
      " [      4  779645   36929  829729 1728439 1578693  707809   79552 1671465\n",
      "  1666195]\n",
      " [      5  824342 1880572 1475852  813766 1347376 1221624  803533 1217967\n",
      "  1350254]\n",
      " [      6  201762   48639 1050127 1418157 1892496  661704  909349  941782\n",
      "    88028]\n",
      " [      7  359775   47062  847471 1653170 1915279  739487  931792 1146174\n",
      "   102686]\n",
      " [      8  754021  899503  118132 1832729 1734031  931788 1691304 1415036\n",
      "   814538]\n",
      " [      9  907700 1995821  762442 1589836  989390  986111 1279824 1443448\n",
      "  1891330]]\n",
      "\n",
      "Time usage for search: 0.0045 seconds.\n",
      "\n"
     ]
    }
   ],
   "source": [
    "\"\"\"\n",
    "4: 近似最近邻搜索\n",
    "\"\"\"\n",
    "\n",
    "\"\"\" 查询验证 \"\"\"\n",
    "start = time.time()\n",
    "dis, ind = index.search(data[:10], k) \n",
    "end = time.time()\n",
    "\n",
    "print(ind)\n",
    "\n",
    "print(\"\\nTime usage for search: {} seconds.\\n\".format(round((end - start),4)))"
   ]
  },
  {
   "cell_type": "code",
   "execution_count": null,
   "metadata": {},
   "outputs": [],
   "source": []
  },
  {
   "cell_type": "code",
   "execution_count": 20,
   "metadata": {},
   "outputs": [
    {
     "name": "stdout",
     "output_type": "stream",
     "text": [
      "[[1689509  278454  716957   78299  292142  244317 1924412 1803720  783697\n",
      "  1395005]\n",
      " [1874442  983923  523909  241569 1409387 1865962  860643  776683   13786\n",
      "  1318036]\n",
      " [1609465  362099  792332    6226 1672637 1906965  574172 1975183  802235\n",
      "  1140470]\n",
      " [ 751006  274723  383712  366339 1243287  977750 1164491  647238  991833\n",
      "   699911]\n",
      " [1503916  362288  990821 1767503    7044  373711  979861 1838789 1904345\n",
      "   176972]\n",
      " [  80562 1347368  821227    3651  262921  800985  623091 1828868 1319990\n",
      "    51973]\n",
      " [ 554628 1719245 1837069  354601 1801095 1593832  741443  495958 1289137\n",
      "  1788412]\n",
      " [1714384 1721760  964018 1440900 1278580 1344095 1487214  523925 1044892\n",
      "  1316870]\n",
      " [ 434704  419990 1690755 1967662  798329 1767825  997462 1227532  962835\n",
      "  1732273]\n",
      " [ 511363  122297   14457  298357 1517231  693771 1647417 1449401 1839261\n",
      "   937778]]\n",
      "\n",
      "Time usage for search: 0.0103 seconds.\n",
      "\n"
     ]
    }
   ],
   "source": [
    "\"\"\" 真实查找 \"\"\"\n",
    "\n",
    "start = time.time()\n",
    "dis, ind = index.search(query, k) \n",
    "end = time.time()\n",
    "\n",
    "print(ind)\n",
    "\n",
    "print(\"\\nTime usage for search: {} seconds.\\n\".format(round((end - start),4)))"
   ]
  },
  {
   "cell_type": "code",
   "execution_count": 17,
   "metadata": {},
   "outputs": [],
   "source": [
    "\"\"\"\n",
    "5: 保存索引和加载索引\n",
    "\"\"\"\n",
    "faiss.write_index(index, \"index_IVFPQ.index\")\n",
    "index = faiss.read_index(\"index_IVFPQ.index\")"
   ]
  },
  {
   "cell_type": "code",
   "execution_count": 27,
   "metadata": {},
   "outputs": [
    {
     "name": "stdout",
     "output_type": "stream",
     "text": [
      "[[2716957 3803720 2246093 2621352 3062877 3778670 2595236 3351922 3617902\n",
      "  3436506]\n",
      " [2241569 3849570 3948718 2072639 3158534 2310042 2010213 2903404 3747512\n",
      "  3012725]\n",
      " [2362099 3750539 2724013 2930538 3800018 2276698 3466860 2969315 3056714\n",
      "  3799970]\n",
      " [2751006 2366339 2977750 3517271 3856838 2117451 3983297 3018759 3057012\n",
      "  2233511]\n",
      " [3503916 2362288 2176972 3254191 3536227 3739178 2797112 3866389 3164465\n",
      "  2646507]\n",
      " [3347368 2003651 2623091 2051973 3245546 3375281 2963343 2518915 2760463\n",
      "  2551578]\n",
      " [3593832 3024460 3186823 3535837 3926399 3208263 3176438 2474239 2236536\n",
      "  2136431]\n",
      " [3714384 3440900 3344095 3044892 2044594 3669190 2862588 3027700 2101044\n",
      "  2161926]\n",
      " [2434704 2419990 3673720 2587669 3810408 2192304 2402803 3571180 2330133\n",
      "  2351613]\n",
      " [2511363 2014457 2937778 2748755 2579653 3229210 2684650 2214652 2512157\n",
      "  3691442]]\n"
     ]
    }
   ],
   "source": [
    "\"\"\"\n",
    "6: 自定义向量id\n",
    "\"\"\"\n",
    "\n",
    "\"\"\" id必须为int类型 \"\"\"\n",
    "ids = np.arange(2000000,4000000)\n",
    "\n",
    "quantizer = faiss.IndexFlatL2(d) \n",
    "index_ = faiss.IndexIVFPQ(quantizer, d, nlist, m, 8)\n",
    "                    \n",
    "index_.train(data)\n",
    "\n",
    "\"\"\" 自定义id \"\"\"\n",
    "index_.add_with_ids(data,ids)\n",
    "\n",
    "dis, ind = index_.search(query, k) \n",
    "\n",
    "print(ind)"
   ]
  },
  {
   "cell_type": "code",
   "execution_count": 29,
   "metadata": {},
   "outputs": [
    {
     "data": {
      "text/plain": [
       "numpy.int64"
      ]
     },
     "execution_count": 29,
     "metadata": {},
     "output_type": "execute_result"
    }
   ],
   "source": [
    "type(ids[0])"
   ]
  },
  {
   "cell_type": "code",
   "execution_count": 18,
   "metadata": {},
   "outputs": [
    {
     "name": "stdout",
     "output_type": "stream",
     "text": [
      "\n",
      "Time usage for train: 80.6588 seconds.\n",
      "\n",
      "[[      0  939914 1160160  641444 1641268 1127837 1382182 1093474  899888\n",
      "  1612053]\n",
      " [      1  268413  785710 1202730  979573  539834 1300504  197580 1712463\n",
      "  1785438]\n",
      " [      2 1518155 1476130  571038  315617 1797226  254239 1448407 1659195\n",
      "  1655313]\n",
      " [      3  943021 1004456 1104984  183340  211493  207600 1549732  883171\n",
      "  1569879]\n",
      " [      4 1570087 1178419  806223 1701559  941105  349088 1968788 1931221\n",
      "   292066]\n",
      " [      5  237800 1358549 1140185   55181  539609 1842772 1171596  340766\n",
      "  1136310]\n",
      " [      6 1882569  701754 1714820 1437393  646467 1244156 1755316   16174\n",
      "  1585437]\n",
      " [      7  492819 1883297  933850  633843  564510   61987 1694862 1975458\n",
      "  1212472]\n",
      " [      8  867448  720355 1026777  283955 1125265  214737 1231826  641251\n",
      "   643058]\n",
      " [      9 1135121 1051951 1766581 1847726 1911032  654494  575636 1125150\n",
      "   187051]]\n",
      "\n",
      "Time usage for search: 0.0004 seconds.\n",
      "\n"
     ]
    }
   ],
   "source": [
    "\"\"\"\n",
    "7：索引工厂\n",
    "\"\"\"\n",
    "\n",
    "\n",
    "index_fac = faiss.index_factory(d,\"OPQ16_64,IMI2x8,PQ16\") \n",
    "\n",
    "start = time.time()\n",
    "index_fac.train(data)\n",
    "index_fac.add(data)\n",
    "end = time.time()\n",
    "print(\"\\nTime usage for train: {} seconds.\\n\".format(round((end - start),4)))\n",
    "\n",
    "start = time.time()\n",
    "dis, ind = index_fac.search(data[:10], 10)  # 真实查询\n",
    "end = time.time()\n",
    "\n",
    "print(ind)\n",
    "print(\"\\nTime usage for search: {} seconds.\\n\".format(round((end - start),4)))"
   ]
  },
  {
   "cell_type": "code",
   "execution_count": 19,
   "metadata": {},
   "outputs": [],
   "source": [
    "faiss.write_index(index_fac, \"index_OPQ16_64,IMI2x8,PQ16.index\")"
   ]
  },
  {
   "cell_type": "code",
   "execution_count": 21,
   "metadata": {},
   "outputs": [
    {
     "name": "stdout",
     "output_type": "stream",
     "text": [
      "[[      0  342266  423764  346234  681189  916533  975052  788138 1001087\n",
      "  1802084]\n",
      " [      1  161229  991976 1304660 1309207  961456  884171  344711 1032968\n",
      "   830166]\n",
      " [      2 1978832  122574  128882  141577 1480724  458154 1578044  912623\n",
      "   334919]\n",
      " [      3 1521806 1817963  430657  179778 1450209 1756022 1037252 1041013\n",
      "   300457]\n",
      " [      4 1666195 1995493  431622  622919 1842401  711426  245512  151672\n",
      "  1351962]\n",
      " [      5  658751  406518  476064  621529   67393  670780 1647785  873970\n",
      "   749287]\n",
      " [      6   43327 1882020 1628440 1143866  512111  708542 1036341 1765963\n",
      "   966288]\n",
      " [      7  591397 1899843  534510  664256 1688601 1019285 1747174 1161384\n",
      "   464800]\n",
      " [      8  338530 1797500 1095226  336240 1129628  117584   17118  771715\n",
      "  1301225]\n",
      " [      9 1344145  989390 1393315  905645  552578  421387 1272224  129364\n",
      "  1153549]]\n",
      "\n",
      "Time usage for search: 0.5881 seconds.\n",
      "\n"
     ]
    }
   ],
   "source": [
    "\"\"\"\n",
    "8：精确查找作为baseline，进行对比\n",
    "\"\"\"\n",
    "\n",
    "index_exact = faiss.IndexFlatL2(d)  \n",
    "\n",
    "\"\"\" 不需要训练 \"\"\"\n",
    "index_exact.add(data)\n",
    "\n",
    "start = time.time()\n",
    "dis, ind = index_exact.search(data[:10], 10)\n",
    "end = time.time()\n",
    "\n",
    "print(ind)\n",
    "print(\"\\nTime usage for search: {} seconds.\\n\".format(round((end - start),4)))"
   ]
  },
  {
   "cell_type": "code",
   "execution_count": null,
   "metadata": {},
   "outputs": [],
   "source": []
  }
 ],
 "metadata": {
  "kernelspec": {
   "display_name": "Python 3",
   "language": "python",
   "name": "python3"
  },
  "language_info": {
   "codemirror_mode": {
    "name": "ipython",
    "version": 3
   },
   "file_extension": ".py",
   "mimetype": "text/x-python",
   "name": "python",
   "nbconvert_exporter": "python",
   "pygments_lexer": "ipython3",
   "version": "3.6.2"
  }
 },
 "nbformat": 4,
 "nbformat_minor": 2
}
